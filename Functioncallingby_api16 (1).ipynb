{
  "nbformat": 4,
  "nbformat_minor": 0,
  "metadata": {
    "colab": {
      "provenance": []
    },
    "kernelspec": {
      "name": "python3",
      "display_name": "Python 3"
    },
    "language_info": {
      "name": "python"
    }
  },
  "cells": [
    {
      "cell_type": "code",
      "execution_count": 24,
      "metadata": {
        "id": "Ymhyx2W-MOrh"
      },
      "outputs": [],
      "source": [
        "import os\n",
        "import requests\n",
        "import json\n"
      ]
    },
    {
      "cell_type": "code",
      "source": [
        "# Load API key from environment variable (you can also directly assign it here, but not recommended)\n",
        "weather_api_key = os.getenv('fe7e7af7af3f4b5a94f110620241710')\n",
        "stock_api_key = os.getenv('cs8f0jpr01qsceftno70cs8f0jpr01qsceftno7g')"
      ],
      "metadata": {
        "id": "oakSOKTdMQz1"
      },
      "execution_count": 26,
      "outputs": []
    },
    {
      "cell_type": "code",
      "source": [
        "\n",
        "# Define real API calls for current weather\n",
        "def get_current_weather(location):\n",
        "    base_url = \"http://api.weatherapi.com/v1/current.json\"\n",
        "    params = {\n",
        "        \"key\": \"fe7e7af7af3f4b5a94f110620241710\",  # Use your API key\n",
        "        \"q\": location\n",
        "    }\n",
        "\n",
        "    response = requests.get(base_url, params=params)\n",
        "    \"Status codes let you know if your request was successfully processed (e.g., 200 OK) or if something went wrong (e.g., 404 Not Found).\"\n",
        "\n",
        "    if response.status_code == 200:\n",
        "        data = response.json()\n",
        "        return {\n",
        "            \"weather\": data['current']['condition']['text'],\n",
        "            \"temperature\": data['current']['temp_f']\n",
        "        }\n",
        "    else:\n",
        "        return {\"error\": \"Unable to fetch weather data\"}"
      ],
      "metadata": {
        "id": "RaEmUBooMQ11"
      },
      "execution_count": 27,
      "outputs": []
    },
    {
      "cell_type": "code",
      "source": [
        "# Define real API call for stock price\n",
        "def get_stock_price(ticker):\n",
        "    base_url = f\"https://finnhub.io/api/v1/quote\"\n",
        "    params = {\n",
        "        \"symbol\": ticker,\n",
        "        \"token\": \"cs8f0jpr01qsceftno70cs8f0jpr01qsceftno7g\"  # Use your API key\n",
        "    }\n",
        "\n",
        "    response = requests.get(base_url, params=params)\n",
        "\n",
        "    if response.status_code == 200:\n",
        "        data = response.json()\n",
        "        return {\n",
        "            \"price\": data.get('c', \"unknown\")  # 'c' is the current price in Finnhub API\n",
        "        }\n",
        "    else:\n",
        "        return {\"error\": \"Unable to fetch stock price\"}"
      ],
      "metadata": {
        "id": "ph4SoTmUMQ49"
      },
      "execution_count": 28,
      "outputs": []
    },
    {
      "cell_type": "code",
      "source": [
        "def get_vegetable_wholesaleprice(vegetable_name):\n",
        "    # Simulate data for vegetable price price\n",
        "    vegetable_data = {\n",
        "        \"Onion\": {\"price\": 46.0},\n",
        "        \"Tomato\": {\"price\": 49.0},\n",
        "        \"Potato\": {\"price\": 38.0},\n",
        "        \"Beetroot\": {\"price\": 33.0},\n",
        "        \"Carrot\": {\"price\": 40},\n",
        "        \"Cabbage\": {\"price\": 25},\n",
        "        \"Brinjal\": {\"price\": 35},\n",
        "        \"lemon\": {\"price\" :71},\n",
        "        \"Radish\": {\"price\":30},\n",
        "        \"Spinach\": {\"price\":12}\n",
        "    }\n",
        "    return vegetable_data.get(vegetable_name, {\"price\": \"unknown\"})\n"
      ],
      "metadata": {
        "id": "Lej1Vw8yqKL6"
      },
      "execution_count": 29,
      "outputs": []
    },
    {
      "cell_type": "code",
      "source": [
        "# Define the function metadata\n",
        "functions_metadata = [\n",
        "    {\n",
        "        \"type\": \"function\",\n",
        "        \"function\": {\n",
        "            \"name\": \"get_current_weather\",\n",
        "            \"description\": \"Get the current weather for a specified location\",\n",
        "            \"parameters\": {\n",
        "                \"type\": \"object\",\n",
        "                \"properties\": {\n",
        "                    \"location\": {\n",
        "                        \"type\": \"string\",\n",
        "                        \"description\": \"The city and state or city and country for which you want the weather.\"\n",
        "                    }\n",
        "                },\n",
        "                \"required\": [\"location\"]\n",
        "            }\n",
        "        }\n",
        "    },\n",
        "    {\n",
        "        \"type\": \"function\",\n",
        "        \"function\": {\n",
        "            \"name\": \"get_stock_price\",\n",
        "            \"description\": \"Get the current stock price for a specified ticker symbol\",\n",
        "            \"parameters\": {\n",
        "                \"type\": \"object\",\n",
        "                \"properties\": {\n",
        "                    \"ticker\": {\n",
        "                        \"type\": \"string\",\n",
        "                        \"description\": \"The stock ticker symbol, e.g., 'AAPL' for Apple\"\n",
        "                    }\n",
        "                },\n",
        "                \"required\": [\"ticker\"]\n",
        "            }\n",
        "        }\n",
        "    },\n",
        "    {\n",
        "        \"type\": \"function\",\n",
        "        \"function\": {\n",
        "            \"name\": \"get_vegetable_wholesaleprice\",\n",
        "            \"description\": \"Get the vegetable wholesale price for a specified vegetable \",\n",
        "            \"parameters\": {\n",
        "                \"type\": \"object\",\n",
        "                \"properties\": {\n",
        "                    \"vegetable_name\": {\n",
        "                        \"type\": \"string\",\n",
        "                        \"description\": \"The name of the vegetable for which you want the wholesale price\"\n",
        "                    }\n",
        "                },\n",
        "                \"required\": [\"vegetable_name\"]\n",
        "            }\n",
        "        }\n",
        "    }\n",
        "]"
      ],
      "metadata": {
        "id": "WcnGBHDGMQ7n"
      },
      "execution_count": 30,
      "outputs": []
    },
    {
      "cell_type": "code",
      "source": [
        "class Gemini_15_LLM:\n",
        "    def __init__(self, functions_metadata):\n",
        "        self.functions = {\n",
        "            \"get_current_weather\": get_current_weather,\n",
        "            \"get_stock_price\": get_stock_price,\n",
        "            \"get_vegetable_wholesaleprice\": get_vegetable_wholesaleprice  # Corrected function name\n",
        "        }\n",
        "        self.functions_metadata = functions_metadata\n",
        "\n",
        "    def call_function(self, function_name, **args):\n",
        "        if function_name in self.functions:\n",
        "            return self.functions[function_name](**args)\n",
        "        else:\n",
        "            return {\"error\": \"Function not found\"}\n",
        "\n",
        "    def respond_to_prompt(self, prompt):\n",
        "        if \"weather\" in prompt.lower() and \"stock\" in prompt.lower() and \"vegetable\" in prompt.lower():\n",
        "            return {\n",
        "                \"functions\": [\n",
        "                    {\"name\": \"get_current_weather\", \"arguments\": {\"location\": \"Kuppam,KPM\"}},\n",
        "                    {\"name\": \"get_stock_price\", \"arguments\": {\"ticker\": \"AAPL\"}},\n",
        "                    {\"name\": \"get_vegetable_wholesaleprice\", \"arguments\": {\"vegetable_name\": \"Carrot\"}}\n",
        "                ]\n",
        "            }\n",
        "        elif \"weather\" in prompt.lower():\n",
        "            return {\"name\": \"get_current_weather\", \"arguments\": {\"location\": \"Kuppam,KPM\"}}\n",
        "        elif \"stock\" in prompt.lower():\n",
        "            return {\"name\": \"get_stock_price\", \"arguments\": {\"ticker\": \"AAPL\"}}\n",
        "        elif \"vegetable\" in prompt.lower():\n",
        "            return {\"name\": \"get_vegetable_wholesaleprice\", \"arguments\": {\"vegetable_name\": \"Carrot\"}}\n",
        "        else:\n",
        "            return \"No function call required\""
      ],
      "metadata": {
        "id": "BwKHN4X6MQ9d"
      },
      "execution_count": 31,
      "outputs": []
    },
    {
      "cell_type": "code",
      "source": [
        "\n",
        "# Create an instance of the Gemini 15-like LLM\n",
        "gemini_15_llm = Gemini_15_LLM(functions_metadata)"
      ],
      "metadata": {
        "id": "dqLILaK9MQ_I"
      },
      "execution_count": 32,
      "outputs": []
    },
    {
      "cell_type": "code",
      "source": [
        "# System prompt (emulates Gemini system awareness)\n",
        "system_prompt = f\"\"\"You are an advanced assistant with access to the following functions:\n",
        "{json.dumps(functions_metadata, indent=4)}\n",
        "\n",
        "To use these functions respond with:\n",
        "{{\"name\":\"function_name\",\"arguments\":{{\"arg_1\":\"value_1\",\"arg_2\":\"value_2\",...}}}}\n",
        "\n",
        "You can also chain multiple function calls when necessary.\"\"\""
      ],
      "metadata": {
        "id": "JpGBg8z4MRDF"
      },
      "execution_count": 33,
      "outputs": []
    },
    {
      "cell_type": "code",
      "source": [
        "# Simulate user queries\n",
        "user_queries = [\n",
        "\n",
        "    \"What is the current weather in Kuppam,KPM?\"\n",
        "]"
      ],
      "metadata": {
        "id": "97Zp4XdPMRE_"
      },
      "execution_count": 34,
      "outputs": []
    },
    {
      "cell_type": "code",
      "source": [
        "\n",
        "# Process each query and store in JSON format\n",
        "responses = []"
      ],
      "metadata": {
        "id": "mKK-0KCmLgVQ"
      },
      "execution_count": 35,
      "outputs": []
    },
    {
      "cell_type": "code",
      "source": [
        "for query in user_queries:\n",
        "    result = {}\n",
        "    result[\"User\"] = query\n",
        "    response = gemini_15_llm.respond_to_prompt(query)\n",
        "\n",
        "    if isinstance(response, dict) and \"functions\" in response:\n",
        "        # If multiple function calls are suggested\n",
        "        result[\"Assistant\"] = []\n",
        "        for func in response[\"functions\"]:\n",
        "            function_name = func['name']\n",
        "            function_args = func.get('arguments', {})  # Safely get 'arguments', defaulting to an empty dict\n",
        "            function_result = gemini_15_llm.call_function(function_name, **function_args)\n",
        "\n",
        "            result[\"Assistant\"].append({\n",
        "                \"Function Name\": function_name,\n",
        "                \"Arguments\": function_args,\n",
        "                \"Result\": function_result\n",
        "            })\n",
        "    elif isinstance(response, dict) and \"name\" in response:\n",
        "        function_name = response['name']\n",
        "        function_args = response.get('arguments', {})  # Safely get 'arguments', defaulting to an empty dict\n",
        "        function_result = gemini_15_llm.call_function(function_name, **function_args)\n",
        "\n",
        "        result[\"Assistant\"] = {\n",
        "            \"Function Name\": function_name,\n",
        "            \"Arguments\": function_args,\n",
        "            \"Result\": function_result\n",
        "        }\n",
        "    else:\n",
        "        result[\"Assistant\"] = {\"Message\": response}\n",
        "\n",
        "    responses.append(result)\n"
      ],
      "metadata": {
        "id": "TKj-4eDVLgXk"
      },
      "execution_count": 36,
      "outputs": []
    },
    {
      "cell_type": "code",
      "source": [
        "print(responses)"
      ],
      "metadata": {
        "colab": {
          "base_uri": "https://localhost:8080/"
        },
        "id": "WjlPnzG5BTRz",
        "outputId": "789a29c5-5ec4-475b-d385-cb6ed9af2810"
      },
      "execution_count": 37,
      "outputs": [
        {
          "output_type": "stream",
          "name": "stdout",
          "text": [
            "[{'User': 'What is the current weather in Kuppam,KPM?', 'Assistant': {'Function Name': 'get_current_weather', 'Arguments': {'location': 'Kuppam,KPM'}, 'Result': {'weather': 'Mist', 'temperature': 90.1}}}]\n"
          ]
        }
      ]
    },
    {
      "cell_type": "code",
      "source": [
        "# Convert the list of responses to JSON format\n",
        "json_output = json.dumps(responses, indent=4)\n",
        "\n",
        "\n",
        "# Print the JSON output\n",
        "print(json_output)"
      ],
      "metadata": {
        "colab": {
          "base_uri": "https://localhost:8080/"
        },
        "id": "n5op_1W4LgbN",
        "outputId": "95dd6309-b4f7-444b-986f-d5d88bf9bf6c"
      },
      "execution_count": 38,
      "outputs": [
        {
          "output_type": "stream",
          "name": "stdout",
          "text": [
            "[\n",
            "    {\n",
            "        \"User\": \"What is the current weather in Kuppam,KPM?\",\n",
            "        \"Assistant\": {\n",
            "            \"Function Name\": \"get_current_weather\",\n",
            "            \"Arguments\": {\n",
            "                \"location\": \"Kuppam,KPM\"\n",
            "            },\n",
            "            \"Result\": {\n",
            "                \"weather\": \"Mist\",\n",
            "                \"temperature\": 90.1\n",
            "            }\n",
            "        }\n",
            "    }\n",
            "]\n"
          ]
        }
      ]
    },
    {
      "cell_type": "code",
      "source": [],
      "metadata": {
        "id": "yvYaPvZ7yVro"
      },
      "execution_count": null,
      "outputs": []
    },
    {
      "cell_type": "code",
      "source": [],
      "metadata": {
        "id": "IWePQcivLgc-"
      },
      "execution_count": null,
      "outputs": []
    },
    {
      "cell_type": "code",
      "source": [],
      "metadata": {
        "id": "bdzfYilPLggZ"
      },
      "execution_count": null,
      "outputs": []
    },
    {
      "cell_type": "code",
      "source": [],
      "metadata": {
        "id": "fBOpei3nLgig"
      },
      "execution_count": null,
      "outputs": []
    },
    {
      "cell_type": "code",
      "source": [],
      "metadata": {
        "id": "sGy3y9StLgj1"
      },
      "execution_count": null,
      "outputs": []
    },
    {
      "cell_type": "code",
      "source": [],
      "metadata": {
        "id": "00zBom37Lgl1"
      },
      "execution_count": null,
      "outputs": []
    },
    {
      "cell_type": "code",
      "source": [],
      "metadata": {
        "id": "WtnOgyhjLgpm"
      },
      "execution_count": null,
      "outputs": []
    },
    {
      "cell_type": "code",
      "source": [],
      "metadata": {
        "id": "PKoML2j3MRGy"
      },
      "execution_count": null,
      "outputs": []
    },
    {
      "cell_type": "code",
      "source": [],
      "metadata": {
        "id": "QAkU58lKMRKG"
      },
      "execution_count": null,
      "outputs": []
    }
  ]
}